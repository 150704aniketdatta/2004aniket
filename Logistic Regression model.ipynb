{
 "cells": [
  {
   "cell_type": "code",
   "execution_count": 3,
   "id": "d3906581",
   "metadata": {},
   "outputs": [],
   "source": [
    "import pandas as pd\n",
    "import numpy as np\n",
    "import matplotlib.pyplot as plt"
   ]
  },
  {
   "cell_type": "code",
   "execution_count": null,
   "id": "df712346",
   "metadata": {},
   "outputs": [],
   "source": [
    "#I don't know how to extend classes in jupyter neither do I know how to attach two seperate programmes please help me with that ..\n",
    "#I didnot have any idea about creating and uploading packages......so please help "
   ]
  },
  {
   "cell_type": "code",
   "execution_count": 4,
   "id": "a53330a2",
   "metadata": {},
   "outputs": [],
   "source": [
    "#Logistic Regression\n",
    "class LogisticRegression(): \n",
    "  int self,learning_rate,no_of_iterations\n",
    "    dataset = pd.read_csv(\"mail_data.csv\")\n",
    "    #Declaring or initiating Learning rate and number of iterations\n",
    "        \n",
    "        \n",
    "        \n",
    "        def  _init_(self,learning_rate,no_of_iterations):\n",
    "            self.learning_rate=learning_rate\n",
    "            self.no_of_iterations=no_of_iterations\n",
    "       \n",
    "        \n",
    "        #fit function to train the model with dataset(s)\n",
    "        def    fit(self,X,Y):\n",
    "            #number of data points in the dataset(number of rows)---->m\n",
    "            #number of input featuresin the dataset(number of columns)----->n\n",
    "            self.m , self.n=X.shape\n",
    "            \n",
    "            #initiating weight and bias value\n",
    "            \n",
    "                self.w=np.zeros(self.n)\n",
    "                self.b=0\n",
    "                self.X=X\n",
    "                self.Y=Y\n",
    "                \n",
    "                \n",
    "                #implementing Gradient Descent for optimization\n",
    "                \n",
    "                for i in range(no_of_iterations)\n",
    "                self.update_weights()\n",
    "            \n",
    "            \n",
    "            \n",
    "            \n",
    "            \n",
    "            \n",
    "        def   update_weights(self,):\n",
    "             \n",
    "                #Y_hat SIGMOID FUNCTION formulae \n",
    "                Y_hat=1/(1+np.exp(-(self.X.dot(self.b)) ))\n",
    "                \n",
    "                #derivatives or gradients\n",
    "                dw=((1/(self.m))*(np.dot(self.x.T,(Y_hat - self.Y)))) #Here T is for transpose of the matrix self.X in dot product\n",
    "                db=(1/self.m)*(np.sum(Y_hat-self.Y))\n",
    "                \n",
    "                #updating the weights and bias using gradient descent algorithm \n",
    "                self.w=self.w-self.learning_rate*dw\n",
    "                self.b=self.b-self.learning_rate*db\n",
    "              \n",
    "          #  SIGMOIDAL EQUATION AND DECISION BOUNDARY\n",
    "                        \n",
    "        def predict(self):\n",
    "            \n",
    "            Y_pred=1/(1+np.exp(-(self.X.dot(self.w)+self.b)))\n",
    "            Y_pred=np.where(Y_pred>0.5,1,0)\n",
    "            return Y_pred\n",
    "            \n",
    "            \n",
    "            \n",
    "            \n",
    "            \n",
    "            \n",
    "            \n",
    "            \n",
    "            "
   ]
  },
  {
   "cell_type": "code",
   "execution_count": null,
   "id": "72619f3b",
   "metadata": {},
   "outputs": [],
   "source": []
  },
  {
   "cell_type": "code",
   "execution_count": 6,
   "id": "f578358e",
   "metadata": {
    "scrolled": true
   },
   "outputs": [
    {
     "name": "stdout",
     "output_type": "stream",
     "text": [
      "[0. 0.]\n"
     ]
    }
   ],
   "source": [
    "weight=np.zeros(2)\n",
    "print (weight)\n"
   ]
  },
  {
   "cell_type": "code",
   "execution_count": null,
   "id": "a87db898",
   "metadata": {},
   "outputs": [],
   "source": []
  },
  {
   "cell_type": "code",
   "execution_count": 6,
   "id": "941d4888",
   "metadata": {},
   "outputs": [],
   "source": []
  },
  {
   "cell_type": "code",
   "execution_count": null,
   "id": "c554476c",
   "metadata": {},
   "outputs": [],
   "source": []
  },
  {
   "cell_type": "code",
   "execution_count": null,
   "id": "db6e27e9",
   "metadata": {},
   "outputs": [],
   "source": []
  },
  {
   "cell_type": "code",
   "execution_count": null,
   "id": "d4283639",
   "metadata": {},
   "outputs": [],
   "source": []
  }
 ],
 "metadata": {
  "kernelspec": {
   "display_name": "Python 3 (ipykernel)",
   "language": "python",
   "name": "python3"
  },
  "language_info": {
   "codemirror_mode": {
    "name": "ipython",
    "version": 3
   },
   "file_extension": ".py",
   "mimetype": "text/x-python",
   "name": "python",
   "nbconvert_exporter": "python",
   "pygments_lexer": "ipython3",
   "version": "3.9.13"
  }
 },
 "nbformat": 4,
 "nbformat_minor": 5
}
